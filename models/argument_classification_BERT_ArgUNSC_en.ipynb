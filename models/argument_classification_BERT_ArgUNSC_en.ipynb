{
  "nbformat": 4,
  "nbformat_minor": 0,
  "metadata": {
    "colab": {
      "provenance": [],
      "gpuType": "A100"
    },
    "kernelspec": {
      "name": "python3",
      "display_name": "Python 3"
    },
    "language_info": {
      "name": "python"
    },
    "accelerator": "GPU",
        "91d53d7c542e44db81710de530acbd9a": {
          "model_module": "@jupyter-widgets/controls",
          "model_name": "HTMLModel",
          "model_module_version": "1.5.0",
          "state": {
            "_dom_classes": [],
            "_model_module": "@jupyter-widgets/controls",
            "_model_module_version": "1.5.0",
            "_model_name": "HTMLModel",
            "_view_count": null,
            "_view_module": "@jupyter-widgets/controls",
            "_view_module_version": "1.5.0",
            "_view_name": "HTMLView",
            "description": "",
            "description_tooltip": null,
            "layout": "IPY_MODEL_5893da70c254440cb9a9397f2467364c",
            "placeholder": "​",
            "style": "IPY_MODEL_816218fb4acb42cf83fa724a13a9fdd6",
            "value": "tokenizer_config.json: 100%"
          }
        },
        "c33791d9752246189a8368c947341b79": {
          "model_module": "@jupyter-widgets/controls",
          "model_name": "FloatProgressModel",
          "model_module_version": "1.5.0",
          "state": {
            "_dom_classes": [],
            "_model_module": "@jupyter-widgets/controls",
            "_model_module_version": "1.5.0",
            "_model_name": "FloatProgressModel",
            "_view_count": null,
            "_view_module": "@jupyter-widgets/controls",
            "_view_module_version": "1.5.0",
            "_view_name": "ProgressView",
            "bar_style": "success",
            "description": "",
            "description_tooltip": null,
            "layout": "IPY_MODEL_71f8184f7c5e4945ba435badcc854879",
            "max": 48,
            "min": 0,
            "orientation": "horizontal",
            "style": "IPY_MODEL_4761c9b19536457898f67de781c68ef4",
            "value": 48
          }
        },
        "2e6ff711d422475fbdabd4981e77dfe2": {
          "model_module": "@jupyter-widgets/controls",
          "model_name": "HTMLModel",
          "model_module_version": "1.5.0",
          "state": {
            "_dom_classes": [],
            "_model_module": "@jupyter-widgets/controls",
            "_model_module_version": "1.5.0",
            "_model_name": "HTMLModel",
            "_view_count": null,
            "_view_module": "@jupyter-widgets/controls",
            "_view_module_version": "1.5.0",
            "_view_name": "HTMLView",
            "description": "",
            "description_tooltip": null,
            "layout": "IPY_MODEL_1b6ab4ec9f3441dba812f85f3e19c8da",
            "placeholder": "​",
            "style": "IPY_MODEL_536d762ed4be4b19aa6c1b42926ea20b",
            "value": " 48.0/48.0 [00:00&lt;00:00, 5.36kB/s]"
          }
        },
        "ce862dbef00e4bd1a2566f8dc5e1e9c9": {
          "model_module": "@jupyter-widgets/base",
          "model_name": "LayoutModel",
          "model_module_version": "1.2.0",
          "state": {
            "_model_module": "@jupyter-widgets/base",
            "_model_module_version": "1.2.0",
            "_model_name": "LayoutModel",
            "_view_count": null,
            "_view_module": "@jupyter-widgets/base",
            "_view_module_version": "1.2.0",
            "_view_name": "LayoutView",
            "align_content": null,
            "align_items": null,
            "align_self": null,
            "border": null,
            "bottom": null,
            "display": null,
            "flex": null,
            "flex_flow": null,
            "grid_area": null,
            "grid_auto_columns": null,
            "grid_auto_flow": null,
            "grid_auto_rows": null,
            "grid_column": null,
            "grid_gap": null,
            "grid_row": null,
            "grid_template_areas": null,
            "grid_template_columns": null,
            "grid_template_rows": null,
            "height": null,
            "justify_content": null,
            "justify_items": null,
            "left": null,
            "margin": null,
            "max_height": null,
            "max_width": null,
            "min_height": null,
            "min_width": null,
            "object_fit": null,
            "object_position": null,
            "order": null,
            "overflow": null,
            "overflow_x": null,
            "overflow_y": null,
            "padding": null,
            "right": null,
            "top": null,
            "visibility": null,
            "width": null
          }
        },
        "5893da70c254440cb9a9397f2467364c": {
          "model_module": "@jupyter-widgets/base",
          "model_name": "LayoutModel",
          "model_module_version": "1.2.0",
          "state": {
            "_model_module": "@jupyter-widgets/base",
            "_model_module_version": "1.2.0",
            "_model_name": "LayoutModel",
            "_view_count": null,
            "_view_module": "@jupyter-widgets/base",
            "_view_module_version": "1.2.0",
            "_view_name": "LayoutView",
            "align_content": null,
            "align_items": null,
            "align_self": null,
            "border": null,
            "bottom": null,
            "display": null,
            "flex": null,
            "flex_flow": null,
            "grid_area": null,
            "grid_auto_columns": null,
            "grid_auto_flow": null,
            "grid_auto_rows": null,
            "grid_column": null,
            "grid_gap": null,
            "grid_row": null,
            "grid_template_areas": null,
            "grid_template_columns": null,
            "grid_template_rows": null,
            "height": null,
            "justify_content": null,
            "justify_items": null,
            "left": null,
            "margin": null,
            "max_height": null,
            "max_width": null,
            "min_height": null,
            "min_width": null,
            "object_fit": null,
            "object_position": null,
            "order": null,
            "overflow": null,
            "overflow_x": null,
            "overflow_y": null,
            "padding": null,
            "right": null,
            "top": null,
            "visibility": null,
            "width": null
          }
        },
        "816218fb4acb42cf83fa724a13a9fdd6": {
          "model_module": "@jupyter-widgets/controls",
          "model_name": "DescriptionStyleModel",
          "model_module_version": "1.5.0",
          "state": {
            "_model_module": "@jupyter-widgets/controls",
            "_model_module_version": "1.5.0",
            "_model_name": "DescriptionStyleModel",
            "_view_count": null,
            "_view_module": "@jupyter-widgets/base",
            "_view_module_version": "1.2.0",
            "_view_name": "StyleView",
            "description_width": ""
          }
        },
        "71f8184f7c5e4945ba435badcc854879": {
          "model_module": "@jupyter-widgets/base",
          "model_name": "LayoutModel",
          "model_module_version": "1.2.0",
          "state": {
            "_model_module": "@jupyter-widgets/base",
            "_model_module_version": "1.2.0",
            "_model_name": "LayoutModel",
            "_view_count": null,
            "_view_module": "@jupyter-widgets/base",
            "_view_module_version": "1.2.0",
            "_view_name": "LayoutView",
            "align_content": null,
            "align_items": null,
            "align_self": null,
            "border": null,
            "bottom": null,
            "display": null,
            "flex": null,
            "flex_flow": null,
            "grid_area": null,
            "grid_auto_columns": null,
            "grid_auto_flow": null,
            "grid_auto_rows": null,
            "grid_column": null,
            "grid_gap": null,
            "grid_row": null,
            "grid_template_areas": null,
            "grid_template_columns": null,
            "grid_template_rows": null,
            "height": null,
            "justify_content": null,
            "justify_items": null,
            "left": null,
            "margin": null,
            "max_height": null,
            "max_width": null,
            "min_height": null,
            "min_width": null,
            "object_fit": null,
            "object_position": null,
            "order": null,
            "overflow": null,
            "overflow_x": null,
            "overflow_y": null,
            "padding": null,
            "right": null,
            "top": null,
            "visibility": null,
            "width": null
          }
        },
        "4761c9b19536457898f67de781c68ef4": {
          "model_module": "@jupyter-widgets/controls",
          "model_name": "ProgressStyleModel",
          "model_module_version": "1.5.0",
          "state": {
            "_model_module": "@jupyter-widgets/controls",
            "_model_module_version": "1.5.0",
            "_model_name": "ProgressStyleModel",
            "_view_count": null,
            "_view_module": "@jupyter-widgets/base",
            "_view_module_version": "1.2.0",
            "_view_name": "StyleView",
            "bar_color": null,
            "description_width": ""
          }
        },
        "1b6ab4ec9f3441dba812f85f3e19c8da": {
          "model_module": "@jupyter-widgets/base",
          "model_name": "LayoutModel",
          "model_module_version": "1.2.0",
          "state": {
            "_model_module": "@jupyter-widgets/base",
            "_model_module_version": "1.2.0",
            "_model_name": "LayoutModel",
            "_view_count": null,
            "_view_module": "@jupyter-widgets/base",
            "_view_module_version": "1.2.0",
            "_view_name": "LayoutView",
            "align_content": null,
            "align_items": null,
            "align_self": null,
            "border": null,
            "bottom": null,
            "display": null,
            "flex": null,
            "flex_flow": null,
            "grid_area": null,
            "grid_auto_columns": null,
            "grid_auto_flow": null,
            "grid_auto_rows": null,
            "grid_column": null,
            "grid_gap": null,
            "grid_row": null,
            "grid_template_areas": null,
            "grid_template_columns": null,
            "grid_template_rows": null,
            "height": null,
            "justify_content": null,
            "justify_items": null,
            "left": null,
            "margin": null,
            "max_height": null,
            "max_width": null,
            "min_height": null,
            "min_width": null,
            "object_fit": null,
            "object_position": null,
            "order": null,
            "overflow": null,
            "overflow_x": null,
            "overflow_y": null,
            "padding": null,
            "right": null,
            "top": null,
            "visibility": null,
            "width": null
          }
        },
        "536d762ed4be4b19aa6c1b42926ea20b": {
          "model_module": "@jupyter-widgets/controls",
          "model_name": "DescriptionStyleModel",
          "model_module_version": "1.5.0",
          "state": {
            "_model_module": "@jupyter-widgets/controls",
            "_model_module_version": "1.5.0",
            "_model_name": "DescriptionStyleModel",
            "_view_count": null,
            "_view_module": "@jupyter-widgets/base",
            "_view_module_version": "1.2.0",
            "_view_name": "StyleView",
            "description_width": ""
          }
        },
        "5d50f5a38ab94d8596140871afe24e8d": {
          "model_module": "@jupyter-widgets/controls",
          "model_name": "HBoxModel",
          "model_module_version": "1.5.0",
          "state": {
            "_dom_classes": [],
            "_model_module": "@jupyter-widgets/controls",
            "_model_module_version": "1.5.0",
            "_model_name": "HBoxModel",
            "_view_count": null,
            "_view_module": "@jupyter-widgets/controls",
            "_view_module_version": "1.5.0",
            "_view_name": "HBoxView",
            "box_style": "",
            "children": [
              "IPY_MODEL_281badb9267c4502b26a41098a4048c2",
              "IPY_MODEL_18944608697843289a93c696ca22d8d1",
              "IPY_MODEL_36416ae1f8244ce5bc27f52131e6cbc2"
            ],
            "layout": "IPY_MODEL_127574629d854654bf550c1d37eff230"
          }
        },
        "281badb9267c4502b26a41098a4048c2": {
          "model_module": "@jupyter-widgets/controls",
          "model_name": "HTMLModel",
          "model_module_version": "1.5.0",
          "state": {
            "_dom_classes": [],
            "_model_module": "@jupyter-widgets/controls",
            "_model_module_version": "1.5.0",
            "_model_name": "HTMLModel",
            "_view_count": null,
            "_view_module": "@jupyter-widgets/controls",
            "_view_module_version": "1.5.0",
            "_view_name": "HTMLView",
            "description": "",
            "description_tooltip": null,
            "layout": "IPY_MODEL_6fc7e72286a943d688e6e4a321143ecf",
            "placeholder": "​",
            "style": "IPY_MODEL_02bf12fe869a415ea6ea55d516aa3fe4",
            "value": "config.json: 100%"
          }
        },
        "18944608697843289a93c696ca22d8d1": {
          "model_module": "@jupyter-widgets/controls",
          "model_name": "FloatProgressModel",
          "model_module_version": "1.5.0",
          "state": {
            "_dom_classes": [],
            "_model_module": "@jupyter-widgets/controls",
            "_model_module_version": "1.5.0",
            "_model_name": "FloatProgressModel",
            "_view_count": null,
            "_view_module": "@jupyter-widgets/controls",
            "_view_module_version": "1.5.0",
            "_view_name": "ProgressView",
            "bar_style": "success",
            "description": "",
            "description_tooltip": null,
            "layout": "IPY_MODEL_c04a5ea7b0af48a099762ca2dfe6c920",
            "max": 570,
            "min": 0,
            "orientation": "horizontal",
            "style": "IPY_MODEL_e9cbcc740e32490a8d258026596ca63e",
            "value": 570
          }
        },
        "36416ae1f8244ce5bc27f52131e6cbc2": {
          "model_module": "@jupyter-widgets/controls",
          "model_name": "HTMLModel",
          "model_module_version": "1.5.0",
          "state": {
            "_dom_classes": [],
            "_model_module": "@jupyter-widgets/controls",
            "_model_module_version": "1.5.0",
            "_model_name": "HTMLModel",
            "_view_count": null,
            "_view_module": "@jupyter-widgets/controls",
            "_view_module_version": "1.5.0",
            "_view_name": "HTMLView",
            "description": "",
            "description_tooltip": null,
            "layout": "IPY_MODEL_2713d0e5b9704876a849e93ffb69e61a",
            "placeholder": "​",
            "style": "IPY_MODEL_b4216fa2ee764a878aea39afab65b2cd",
            "value": " 570/570 [00:00&lt;00:00, 50.2kB/s]"
          }
        },
        "127574629d854654bf550c1d37eff230": {
          "model_module": "@jupyter-widgets/base",
          "model_name": "LayoutModel",
          "model_module_version": "1.2.0",
          "state": {
            "_model_module": "@jupyter-widgets/base",
            "_model_module_version": "1.2.0",
            "_model_name": "LayoutModel",
            "_view_count": null,
            "_view_module": "@jupyter-widgets/base",
            "_view_module_version": "1.2.0",
            "_view_name": "LayoutView",
            "align_content": null,
            "align_items": null,
            "align_self": null,
            "border": null,
            "bottom": null,
            "display": null,
            "flex": null,
            "flex_flow": null,
            "grid_area": null,
            "grid_auto_columns": null,
            "grid_auto_flow": null,
            "grid_auto_rows": null,
            "grid_column": null,
            "grid_gap": null,
            "grid_row": null,
            "grid_template_areas": null,
            "grid_template_columns": null,
            "grid_template_rows": null,
            "height": null,
            "justify_content": null,
            "justify_items": null,
            "left": null,
            "margin": null,
            "max_height": null,
            "max_width": null,
            "min_height": null,
            "min_width": null,
            "object_fit": null,
            "object_position": null,
            "order": null,
            "overflow": null,
            "overflow_x": null,
            "overflow_y": null,
            "padding": null,
            "right": null,
            "top": null,
            "visibility": null,
            "width": null
          }
        },
        "6fc7e72286a943d688e6e4a321143ecf": {
          "model_module": "@jupyter-widgets/base",
          "model_name": "LayoutModel",
          "model_module_version": "1.2.0",
          "state": {
            "_model_module": "@jupyter-widgets/base",
            "_model_module_version": "1.2.0",
            "_model_name": "LayoutModel",
            "_view_count": null,
            "_view_module": "@jupyter-widgets/base",
            "_view_module_version": "1.2.0",
            "_view_name": "LayoutView",
            "align_content": null,
            "align_items": null,
            "align_self": null,
            "border": null,
            "bottom": null,
            "display": null,
            "flex": null,
            "flex_flow": null,
            "grid_area": null,
            "grid_auto_columns": null,
            "grid_auto_flow": null,
            "grid_auto_rows": null,
            "grid_column": null,
            "grid_gap": null,
            "grid_row": null,
            "grid_template_areas": null,
            "grid_template_columns": null,
            "grid_template_rows": null,
            "height": null,
            "justify_content": null,
            "justify_items": null,
            "left": null,
            "margin": null,
            "max_height": null,
            "max_width": null,
            "min_height": null,
            "min_width": null,
            "object_fit": null,
            "object_position": null,
            "order": null,
            "overflow": null,
            "overflow_x": null,
            "overflow_y": null,
            "padding": null,
            "right": null,
            "top": null,
            "visibility": null,
            "width": null
          }
        },
        "02bf12fe869a415ea6ea55d516aa3fe4": {
          "model_module": "@jupyter-widgets/controls",
          "model_name": "DescriptionStyleModel",
          "model_module_version": "1.5.0",
          "state": {
            "_model_module": "@jupyter-widgets/controls",
            "_model_module_version": "1.5.0",
            "_model_name": "DescriptionStyleModel",
            "_view_count": null,
            "_view_module": "@jupyter-widgets/base",
            "_view_module_version": "1.2.0",
            "_view_name": "StyleView",
            "description_width": ""
          }
        },
        "c04a5ea7b0af48a099762ca2dfe6c920": {
          "model_module": "@jupyter-widgets/base",
          "model_name": "LayoutModel",
          "model_module_version": "1.2.0",
          "state": {
            "_model_module": "@jupyter-widgets/base",
            "_model_module_version": "1.2.0",
            "_model_name": "LayoutModel",
            "_view_count": null,
            "_view_module": "@jupyter-widgets/base",
            "_view_module_version": "1.2.0",
            "_view_name": "LayoutView",
            "align_content": null,
            "align_items": null,
            "align_self": null,
            "border": null,
            "bottom": null,
            "display": null,
            "flex": null,
            "flex_flow": null,
            "grid_area": null,
            "grid_auto_columns": null,
            "grid_auto_flow": null,
            "grid_auto_rows": null,
            "grid_column": null,
            "grid_gap": null,
            "grid_row": null,
            "grid_template_areas": null,
            "grid_template_columns": null,
            "grid_template_rows": null,
            "height": null,
            "justify_content": null,
            "justify_items": null,
            "left": null,
            "margin": null,
            "max_height": null,
            "max_width": null,
            "min_height": null,
            "min_width": null,
            "object_fit": null,
            "object_position": null,
            "order": null,
            "overflow": null,
            "overflow_x": null,
            "overflow_y": null,
            "padding": null,
            "right": null,
            "top": null,
            "visibility": null,
            "width": null
          }
        },
        "e9cbcc740e32490a8d258026596ca63e": {
          "model_module": "@jupyter-widgets/controls",
          "model_name": "ProgressStyleModel",
          "model_module_version": "1.5.0",
          "state": {
            "_model_module": "@jupyter-widgets/controls",
            "_model_module_version": "1.5.0",
            "_model_name": "ProgressStyleModel",
            "_view_count": null,
            "_view_module": "@jupyter-widgets/base",
            "_view_module_version": "1.2.0",
            "_view_name": "StyleView",
            "bar_color": null,
            "description_width": ""
          }
        },
        "2713d0e5b9704876a849e93ffb69e61a": {
          "model_module": "@jupyter-widgets/base",
          "model_name": "LayoutModel",
          "model_module_version": "1.2.0",
          "state": {
            "_model_module": "@jupyter-widgets/base",
            "_model_module_version": "1.2.0",
            "_model_name": "LayoutModel",
            "_view_count": null,
            "_view_module": "@jupyter-widgets/base",
            "_view_module_version": "1.2.0",
            "_view_name": "LayoutView",
            "align_content": null,
            "align_items": null,
            "align_self": null,
            "border": null,
            "bottom": null,
            "display": null,
            "flex": null,
            "flex_flow": null,
            "grid_area": null,
            "grid_auto_columns": null,
            "grid_auto_flow": null,
            "grid_auto_rows": null,
            "grid_column": null,
            "grid_gap": null,
            "grid_row": null,
            "grid_template_areas": null,
            "grid_template_columns": null,
            "grid_template_rows": null,
            "height": null,
            "justify_content": null,
            "justify_items": null,
            "left": null,
            "margin": null,
            "max_height": null,
            "max_width": null,
            "min_height": null,
            "min_width": null,
            "object_fit": null,
            "object_position": null,
            "order": null,
            "overflow": null,
            "overflow_x": null,
            "overflow_y": null,
            "padding": null,
            "right": null,
            "top": null,
            "visibility": null,
            "width": null
          }
        },
        "b4216fa2ee764a878aea39afab65b2cd": {
          "model_module": "@jupyter-widgets/controls",
          "model_name": "DescriptionStyleModel",
          "model_module_version": "1.5.0",
          "state": {
            "_model_module": "@jupyter-widgets/controls",
            "_model_module_version": "1.5.0",
            "_model_name": "DescriptionStyleModel",
            "_view_count": null,
            "_view_module": "@jupyter-widgets/base",
            "_view_module_version": "1.2.0",
            "_view_name": "StyleView",
            "description_width": ""
          }
        },
        "07b5903af2b640ed95a0ede5195a4999": {
          "model_module": "@jupyter-widgets/controls",
          "model_name": "HBoxModel",
          "model_module_version": "1.5.0",
          "state": {
            "_dom_classes": [],
            "_model_module": "@jupyter-widgets/controls",
            "_model_module_version": "1.5.0",
            "_model_name": "HBoxModel",
            "_view_count": null,
            "_view_module": "@jupyter-widgets/controls",
            "_view_module_version": "1.5.0",
            "_view_name": "HBoxView",
            "box_style": "",
            "children": [
              "IPY_MODEL_f88b3c95d75b42d4b8a40f650cbf1538",
              "IPY_MODEL_8b47295e891e4b798283a9eb2cff1cbc",
              "IPY_MODEL_1ba5a62a669d4fc78c4e4496f386af78"
            ],
            "layout": "IPY_MODEL_885cf61583e944f7ab3de34011af85ef"
          }
        },
        "f88b3c95d75b42d4b8a40f650cbf1538": {
          "model_module": "@jupyter-widgets/controls",
          "model_name": "HTMLModel",
          "model_module_version": "1.5.0",
          "state": {
            "_dom_classes": [],
            "_model_module": "@jupyter-widgets/controls",
            "_model_module_version": "1.5.0",
            "_model_name": "HTMLModel",
            "_view_count": null,
            "_view_module": "@jupyter-widgets/controls",
            "_view_module_version": "1.5.0",
            "_view_name": "HTMLView",
            "description": "",
            "description_tooltip": null,
            "layout": "IPY_MODEL_02b4001ea52e459a9f311b8142d22e65",
            "placeholder": "​",
            "style": "IPY_MODEL_c30c65854dd8454a8a94fc770d71d8b0",
            "value": "vocab.txt: 100%"
          }
        },
        "8b47295e891e4b798283a9eb2cff1cbc": {
          "model_module": "@jupyter-widgets/controls",
          "model_name": "FloatProgressModel",
          "model_module_version": "1.5.0",
          "state": {
            "_dom_classes": [],
            "_model_module": "@jupyter-widgets/controls",
            "_model_module_version": "1.5.0",
            "_model_name": "FloatProgressModel",
            "_view_count": null,
            "_view_module": "@jupyter-widgets/controls",
            "_view_module_version": "1.5.0",
            "_view_name": "ProgressView",
            "bar_style": "success",
            "description": "",
            "description_tooltip": null,
            "layout": "IPY_MODEL_7c381872638943ba864b26b516d3373a",
            "max": 231508,
            "min": 0,
            "orientation": "horizontal",
            "style": "IPY_MODEL_b5f5e0d6b6974c35b9ca9ae6fa11a9d8",
            "value": 231508
          }
        },
        "1ba5a62a669d4fc78c4e4496f386af78": {
          "model_module": "@jupyter-widgets/controls",
          "model_name": "HTMLModel",
          "model_module_version": "1.5.0",
          "state": {
            "_dom_classes": [],
            "_model_module": "@jupyter-widgets/controls",
            "_model_module_version": "1.5.0",
            "_model_name": "HTMLModel",
            "_view_count": null,
            "_view_module": "@jupyter-widgets/controls",
            "_view_module_version": "1.5.0",
            "_view_name": "HTMLView",
            "description": "",
            "description_tooltip": null,
            "layout": "IPY_MODEL_24ca14d307ed4b25a5ca435b261cda15",
            "placeholder": "​",
            "style": "IPY_MODEL_d9921ef738e045b694164272ac71794b",
            "value": " 232k/232k [00:00&lt;00:00, 17.9MB/s]"
          }
        },
        "885cf61583e944f7ab3de34011af85ef": {
          "model_module": "@jupyter-widgets/base",
          "model_name": "LayoutModel",
          "model_module_version": "1.2.0",
          "state": {
            "_model_module": "@jupyter-widgets/base",
            "_model_module_version": "1.2.0",
            "_model_name": "LayoutModel",
            "_view_count": null,
            "_view_module": "@jupyter-widgets/base",
            "_view_module_version": "1.2.0",
            "_view_name": "LayoutView",
            "align_content": null,
            "align_items": null,
            "align_self": null,
            "border": null,
            "bottom": null,
            "display": null,
            "flex": null,
            "flex_flow": null,
            "grid_area": null,
            "grid_auto_columns": null,
            "grid_auto_flow": null,
            "grid_auto_rows": null,
            "grid_column": null,
            "grid_gap": null,
            "grid_row": null,
            "grid_template_areas": null,
            "grid_template_columns": null,
            "grid_template_rows": null,
            "height": null,
            "justify_content": null,
            "justify_items": null,
            "left": null,
            "margin": null,
            "max_height": null,
            "max_width": null,
            "min_height": null,
            "min_width": null,
            "object_fit": null,
            "object_position": null,
            "order": null,
            "overflow": null,
            "overflow_x": null,
            "overflow_y": null,
            "padding": null,
            "right": null,
            "top": null,
            "visibility": null,
            "width": null
          }
        },
        "02b4001ea52e459a9f311b8142d22e65": {
          "model_module": "@jupyter-widgets/base",
          "model_name": "LayoutModel",
          "model_module_version": "1.2.0",
          "state": {
            "_model_module": "@jupyter-widgets/base",
            "_model_module_version": "1.2.0",
            "_model_name": "LayoutModel",
            "_view_count": null,
            "_view_module": "@jupyter-widgets/base",
            "_view_module_version": "1.2.0",
            "_view_name": "LayoutView",
            "align_content": null,
            "align_items": null,
            "align_self": null,
            "border": null,
            "bottom": null,
            "display": null,
            "flex": null,
            "flex_flow": null,
            "grid_area": null,
            "grid_auto_columns": null,
            "grid_auto_flow": null,
            "grid_auto_rows": null,
            "grid_column": null,
            "grid_gap": null,
            "grid_row": null,
            "grid_template_areas": null,
            "grid_template_columns": null,
            "grid_template_rows": null,
            "height": null,
            "justify_content": null,
            "justify_items": null,
            "left": null,
            "margin": null,
            "max_height": null,
            "max_width": null,
            "min_height": null,
            "min_width": null,
            "object_fit": null,
            "object_position": null,
            "order": null,
            "overflow": null,
            "overflow_x": null,
            "overflow_y": null,
            "padding": null,
            "right": null,
            "top": null,
            "visibility": null,
            "width": null
          }
        },
        "c30c65854dd8454a8a94fc770d71d8b0": {
          "model_module": "@jupyter-widgets/controls",
          "model_name": "DescriptionStyleModel",
          "model_module_version": "1.5.0",
          "state": {
            "_model_module": "@jupyter-widgets/controls",
            "_model_module_version": "1.5.0",
            "_model_name": "DescriptionStyleModel",
            "_view_count": null,
            "_view_module": "@jupyter-widgets/base",
            "_view_module_version": "1.2.0",
            "_view_name": "StyleView",
            "description_width": ""
          }
        },
        "7c381872638943ba864b26b516d3373a": {
          "model_module": "@jupyter-widgets/base",
          "model_name": "LayoutModel",
          "model_module_version": "1.2.0",
          "state": {
            "_model_module": "@jupyter-widgets/base",
            "_model_module_version": "1.2.0",
            "_model_name": "LayoutModel",
            "_view_count": null,
            "_view_module": "@jupyter-widgets/base",
            "_view_module_version": "1.2.0",
            "_view_name": "LayoutView",
            "align_content": null,
            "align_items": null,
            "align_self": null,
            "border": null,
            "bottom": null,
            "display": null,
            "flex": null,
            "flex_flow": null,
            "grid_area": null,
            "grid_auto_columns": null,
            "grid_auto_flow": null,
            "grid_auto_rows": null,
            "grid_column": null,
            "grid_gap": null,
            "grid_row": null,
            "grid_template_areas": null,
            "grid_template_columns": null,
            "grid_template_rows": null,
            "height": null,
            "justify_content": null,
            "justify_items": null,
            "left": null,
            "margin": null,
            "max_height": null,
            "max_width": null,
            "min_height": null,
            "min_width": null,
            "object_fit": null,
            "object_position": null,
            "order": null,
            "overflow": null,
            "overflow_x": null,
            "overflow_y": null,
            "padding": null,
            "right": null,
            "top": null,
            "visibility": null,
            "width": null
          }
        },
        "b5f5e0d6b6974c35b9ca9ae6fa11a9d8": {
          "model_module": "@jupyter-widgets/controls",
          "model_name": "ProgressStyleModel",
          "model_module_version": "1.5.0",
          "state": {
            "_model_module": "@jupyter-widgets/controls",
            "_model_module_version": "1.5.0",
            "_model_name": "ProgressStyleModel",
            "_view_count": null,
            "_view_module": "@jupyter-widgets/base",
            "_view_module_version": "1.2.0",
            "_view_name": "StyleView",
            "bar_color": null,
            "description_width": ""
          }
        },
        "24ca14d307ed4b25a5ca435b261cda15": {
          "model_module": "@jupyter-widgets/base",
          "model_name": "LayoutModel",
          "model_module_version": "1.2.0",
          "state": {
            "_model_module": "@jupyter-widgets/base",
            "_model_module_version": "1.2.0",
            "_model_name": "LayoutModel",
            "_view_count": null,
            "_view_module": "@jupyter-widgets/base",
            "_view_module_version": "1.2.0",
            "_view_name": "LayoutView",
            "align_content": null,
            "align_items": null,
            "align_self": null,
            "border": null,
            "bottom": null,
            "display": null,
            "flex": null,
            "flex_flow": null,
            "grid_area": null,
            "grid_auto_columns": null,
            "grid_auto_flow": null,
            "grid_auto_rows": null,
            "grid_column": null,
            "grid_gap": null,
            "grid_row": null,
            "grid_template_areas": null,
            "grid_template_columns": null,
            "grid_template_rows": null,
            "height": null,
            "justify_content": null,
            "justify_items": null,
            "left": null,
            "margin": null,
            "max_height": null,
            "max_width": null,
            "min_height": null,
            "min_width": null,
            "object_fit": null,
            "object_position": null,
            "order": null,
            "overflow": null,
            "overflow_x": null,
            "overflow_y": null,
            "padding": null,
            "right": null,
            "top": null,
            "visibility": null,
            "width": null
          }
        },
        "d9921ef738e045b694164272ac71794b": {
          "model_module": "@jupyter-widgets/controls",
          "model_name": "DescriptionStyleModel",
          "model_module_version": "1.5.0",
          "state": {
            "_model_module": "@jupyter-widgets/controls",
            "_model_module_version": "1.5.0",
            "_model_name": "DescriptionStyleModel",
            "_view_count": null,
            "_view_module": "@jupyter-widgets/base",
            "_view_module_version": "1.2.0",
            "_view_name": "StyleView",
            "description_width": ""
          }
        },
        "7a8afc214c7f4fd1ae1f818b8f14ada4": {
          "model_module": "@jupyter-widgets/controls",
          "model_name": "HBoxModel",
          "model_module_version": "1.5.0",
          "state": {
            "_dom_classes": [],
            "_model_module": "@jupyter-widgets/controls",
            "_model_module_version": "1.5.0",
            "_model_name": "HBoxModel",
            "_view_count": null,
            "_view_module": "@jupyter-widgets/controls",
            "_view_module_version": "1.5.0",
            "_view_name": "HBoxView",
            "box_style": "",
            "children": [
              "IPY_MODEL_a1ba8656757d4960a5575c966a30b5d2",
              "IPY_MODEL_3410bcc3130548eaa0f9289ae54637b3",
              "IPY_MODEL_0a3d4ac5dd1546648c025618e13b4a7c"
            ],
            "layout": "IPY_MODEL_963db46522b840acab2261870ee44799"
          }
        },
        "a1ba8656757d4960a5575c966a30b5d2": {
          "model_module": "@jupyter-widgets/controls",
          "model_name": "HTMLModel",
          "model_module_version": "1.5.0",
          "state": {
            "_dom_classes": [],
            "_model_module": "@jupyter-widgets/controls",
            "_model_module_version": "1.5.0",
            "_model_name": "HTMLModel",
            "_view_count": null,
            "_view_module": "@jupyter-widgets/controls",
            "_view_module_version": "1.5.0",
            "_view_name": "HTMLView",
            "description": "",
            "description_tooltip": null,
            "layout": "IPY_MODEL_be3e9e410f044fa9b785b36a98602e8d",
            "placeholder": "​",
            "style": "IPY_MODEL_64f231da8d1a4ee4bd7c5402eee29bb2",
            "value": "tokenizer.json: 100%"
          }
        },
        "3410bcc3130548eaa0f9289ae54637b3": {
          "model_module": "@jupyter-widgets/controls",
          "model_name": "FloatProgressModel",
          "model_module_version": "1.5.0",
          "state": {
            "_dom_classes": [],
            "_model_module": "@jupyter-widgets/controls",
            "_model_module_version": "1.5.0",
            "_model_name": "FloatProgressModel",
            "_view_count": null,
            "_view_module": "@jupyter-widgets/controls",
            "_view_module_version": "1.5.0",
            "_view_name": "ProgressView",
            "bar_style": "success",
            "description": "",
            "description_tooltip": null,
            "layout": "IPY_MODEL_aefa95770da846efb62e2cee3a9a7257",
            "max": 466062,
            "min": 0,
            "orientation": "horizontal",
            "style": "IPY_MODEL_7a3470cc450e442198a57e2c371fc161",
            "value": 466062
          }
        },
        "0a3d4ac5dd1546648c025618e13b4a7c": {
          "model_module": "@jupyter-widgets/controls",
          "model_name": "HTMLModel",
          "model_module_version": "1.5.0",
          "state": {
            "_dom_classes": [],
            "_model_module": "@jupyter-widgets/controls",
            "_model_module_version": "1.5.0",
            "_model_name": "HTMLModel",
            "_view_count": null,
            "_view_module": "@jupyter-widgets/controls",
            "_view_module_version": "1.5.0",
            "_view_name": "HTMLView",
            "description": "",
            "description_tooltip": null,
            "layout": "IPY_MODEL_feac97ce596b4bc5bd391f658ba77fa3",
            "placeholder": "​",
            "style": "IPY_MODEL_4cb44074a50941c6b598b9705984d302",
            "value": " 466k/466k [00:00&lt;00:00, 44.8MB/s]"
          }
        },
        "963db46522b840acab2261870ee44799": {
          "model_module": "@jupyter-widgets/base",
          "model_name": "LayoutModel",
          "model_module_version": "1.2.0",
          "state": {
            "_model_module": "@jupyter-widgets/base",
            "_model_module_version": "1.2.0",
            "_model_name": "LayoutModel",
            "_view_count": null,
            "_view_module": "@jupyter-widgets/base",
            "_view_module_version": "1.2.0",
            "_view_name": "LayoutView",
            "align_content": null,
            "align_items": null,
            "align_self": null,
            "border": null,
            "bottom": null,
            "display": null,
            "flex": null,
            "flex_flow": null,
            "grid_area": null,
            "grid_auto_columns": null,
            "grid_auto_flow": null,
            "grid_auto_rows": null,
            "grid_column": null,
            "grid_gap": null,
            "grid_row": null,
            "grid_template_areas": null,
            "grid_template_columns": null,
            "grid_template_rows": null,
            "height": null,
            "justify_content": null,
            "justify_items": null,
            "left": null,
            "margin": null,
            "max_height": null,
            "max_width": null,
            "min_height": null,
            "min_width": null,
            "object_fit": null,
            "object_position": null,
            "order": null,
            "overflow": null,
            "overflow_x": null,
            "overflow_y": null,
            "padding": null,
            "right": null,
            "top": null,
            "visibility": null,
            "width": null
          }
        },
        "be3e9e410f044fa9b785b36a98602e8d": {
          "model_module": "@jupyter-widgets/base",
          "model_name": "LayoutModel",
          "model_module_version": "1.2.0",
          "state": {
            "_model_module": "@jupyter-widgets/base",
            "_model_module_version": "1.2.0",
            "_model_name": "LayoutModel",
            "_view_count": null,
            "_view_module": "@jupyter-widgets/base",
            "_view_module_version": "1.2.0",
            "_view_name": "LayoutView",
            "align_content": null,
            "align_items": null,
            "align_self": null,
            "border": null,
            "bottom": null,
            "display": null,
            "flex": null,
            "flex_flow": null,
            "grid_area": null,
            "grid_auto_columns": null,
            "grid_auto_flow": null,
            "grid_auto_rows": null,
            "grid_column": null,
            "grid_gap": null,
            "grid_row": null,
            "grid_template_areas": null,
            "grid_template_columns": null,
            "grid_template_rows": null,
            "height": null,
            "justify_content": null,
            "justify_items": null,
            "left": null,
            "margin": null,
            "max_height": null,
            "max_width": null,
            "min_height": null,
            "min_width": null,
            "object_fit": null,
            "object_position": null,
            "order": null,
            "overflow": null,
            "overflow_x": null,
            "overflow_y": null,
            "padding": null,
            "right": null,
            "top": null,
            "visibility": null,
            "width": null
          }
        },
        "64f231da8d1a4ee4bd7c5402eee29bb2": {
          "model_module": "@jupyter-widgets/controls",
          "model_name": "DescriptionStyleModel",
          "model_module_version": "1.5.0",
          "state": {
            "_model_module": "@jupyter-widgets/controls",
            "_model_module_version": "1.5.0",
            "_model_name": "DescriptionStyleModel",
            "_view_count": null,
            "_view_module": "@jupyter-widgets/base",
            "_view_module_version": "1.2.0",
            "_view_name": "StyleView",
            "description_width": ""
          }
        },
        "aefa95770da846efb62e2cee3a9a7257": {
          "model_module": "@jupyter-widgets/base",
          "model_name": "LayoutModel",
          "model_module_version": "1.2.0",
          "state": {
            "_model_module": "@jupyter-widgets/base",
            "_model_module_version": "1.2.0",
            "_model_name": "LayoutModel",
            "_view_count": null,
            "_view_module": "@jupyter-widgets/base",
            "_view_module_version": "1.2.0",
            "_view_name": "LayoutView",
            "align_content": null,
            "align_items": null,
            "align_self": null,
            "border": null,
            "bottom": null,
            "display": null,
            "flex": null,
            "flex_flow": null,
            "grid_area": null,
            "grid_auto_columns": null,
            "grid_auto_flow": null,
            "grid_auto_rows": null,
            "grid_column": null,
            "grid_gap": null,
            "grid_row": null,
            "grid_template_areas": null,
            "grid_template_columns": null,
            "grid_template_rows": null,
            "height": null,
            "justify_content": null,
            "justify_items": null,
            "left": null,
            "margin": null,
            "max_height": null,
            "max_width": null,
            "min_height": null,
            "min_width": null,
            "object_fit": null,
            "object_position": null,
            "order": null,
            "overflow": null,
            "overflow_x": null,
            "overflow_y": null,
            "padding": null,
            "right": null,
            "top": null,
            "visibility": null,
            "width": null
          }
        },
        "7a3470cc450e442198a57e2c371fc161": {
          "model_module": "@jupyter-widgets/controls",
          "model_name": "ProgressStyleModel",
          "model_module_version": "1.5.0",
          "state": {
            "_model_module": "@jupyter-widgets/controls",
            "_model_module_version": "1.5.0",
            "_model_name": "ProgressStyleModel",
            "_view_count": null,
            "_view_module": "@jupyter-widgets/base",
            "_view_module_version": "1.2.0",
            "_view_name": "StyleView",
            "bar_color": null,
            "description_width": ""
          }
        },
        "feac97ce596b4bc5bd391f658ba77fa3": {
          "model_module": "@jupyter-widgets/base",
          "model_name": "LayoutModel",
          "model_module_version": "1.2.0",
          "state": {
            "_model_module": "@jupyter-widgets/base",
            "_model_module_version": "1.2.0",
            "_model_name": "LayoutModel",
            "_view_count": null,
            "_view_module": "@jupyter-widgets/base",
            "_view_module_version": "1.2.0",
            "_view_name": "LayoutView",
            "align_content": null,
            "align_items": null,
            "align_self": null,
            "border": null,
            "bottom": null,
            "display": null,
            "flex": null,
            "flex_flow": null,
            "grid_area": null,
            "grid_auto_columns": null,
            "grid_auto_flow": null,
            "grid_auto_rows": null,
            "grid_column": null,
            "grid_gap": null,
            "grid_row": null,
            "grid_template_areas": null,
            "grid_template_columns": null,
            "grid_template_rows": null,
            "height": null,
            "justify_content": null,
            "justify_items": null,
            "left": null,
            "margin": null,
            "max_height": null,
            "max_width": null,
            "min_height": null,
            "min_width": null,
            "object_fit": null,
            "object_position": null,
            "order": null,
            "overflow": null,
            "overflow_x": null,
            "overflow_y": null,
            "padding": null,
            "right": null,
            "top": null,
            "visibility": null,
            "width": null
          }
        },
        "4cb44074a50941c6b598b9705984d302": {
          "model_module": "@jupyter-widgets/controls",
          "model_name": "DescriptionStyleModel",
          "model_module_version": "1.5.0",
          "state": {
            "_model_module": "@jupyter-widgets/controls",
            "_model_module_version": "1.5.0",
            "_model_name": "DescriptionStyleModel",
            "_view_count": null,
            "_view_module": "@jupyter-widgets/base",
            "_view_module_version": "1.2.0",
            "_view_name": "StyleView",
            "description_width": ""
          }
        },
        "7db6d219d4314705b7595a2a3bd9013e": {
          "model_module": "@jupyter-widgets/controls",
          "model_name": "HBoxModel",
          "model_module_version": "1.5.0",
          "state": {
            "_dom_classes": [],
            "_model_module": "@jupyter-widgets/controls",
            "_model_module_version": "1.5.0",
            "_model_name": "HBoxModel",
            "_view_count": null,
            "_view_module": "@jupyter-widgets/controls",
            "_view_module_version": "1.5.0",
            "_view_name": "HBoxView",
            "box_style": "",
            "children": [
              "IPY_MODEL_1800ccd29d1a420cba3917e53ce3a30b",
              "IPY_MODEL_e1e1584f2c784d14883985fac85c5a4e",
              "IPY_MODEL_eef9a9e15a2c4950be7184fd23f7808f"
            ],
            "layout": "IPY_MODEL_b8345bb22e994607b5ca056ec0a4cf2f"
          }
        },
        "1800ccd29d1a420cba3917e53ce3a30b": {
          "model_module": "@jupyter-widgets/controls",
          "model_name": "HTMLModel",
          "model_module_version": "1.5.0",
          "state": {
            "_dom_classes": [],
            "_model_module": "@jupyter-widgets/controls",
            "_model_module_version": "1.5.0",
            "_model_name": "HTMLModel",
            "_view_count": null,
            "_view_module": "@jupyter-widgets/controls",
            "_view_module_version": "1.5.0",
            "_view_name": "HTMLView",
            "description": "",
            "description_tooltip": null,
            "layout": "IPY_MODEL_e5a5696675224bd5ac42df7d2f090622",
            "placeholder": "​",
            "style": "IPY_MODEL_576555f954484ff2a5280a4864912209",
            "value": "model.safetensors: 100%"
          }
        },
        "e1e1584f2c784d14883985fac85c5a4e": {
          "model_module": "@jupyter-widgets/controls",
          "model_name": "FloatProgressModel",
          "model_module_version": "1.5.0",
          "state": {
            "_dom_classes": [],
            "_model_module": "@jupyter-widgets/controls",
            "_model_module_version": "1.5.0",
            "_model_name": "FloatProgressModel",
            "_view_count": null,
            "_view_module": "@jupyter-widgets/controls",
            "_view_module_version": "1.5.0",
            "_view_name": "ProgressView",
            "bar_style": "success",
            "description": "",
            "description_tooltip": null,
            "layout": "IPY_MODEL_4d48192c0980463c84d49f0d952452b0",
            "max": 440449768,
            "min": 0,
            "orientation": "horizontal",
            "style": "IPY_MODEL_d08b26301a3b40738f6620a0f3b2bab6",
            "value": 440449768
          }
        },
        "eef9a9e15a2c4950be7184fd23f7808f": {
          "model_module": "@jupyter-widgets/controls",
          "model_name": "HTMLModel",
          "model_module_version": "1.5.0",
          "state": {
            "_dom_classes": [],
            "_model_module": "@jupyter-widgets/controls",
            "_model_module_version": "1.5.0",
            "_model_name": "HTMLModel",
            "_view_count": null,
            "_view_module": "@jupyter-widgets/controls",
            "_view_module_version": "1.5.0",
            "_view_name": "HTMLView",
            "description": "",
            "description_tooltip": null,
            "layout": "IPY_MODEL_13ee8d513369438d87ecdb2e88989e78",
            "placeholder": "​",
            "style": "IPY_MODEL_1b69bdec9a854693b02fb0d1444ec9d3",
            "value": " 440M/440M [00:01&lt;00:00, 269MB/s]"
          }
        },
        "b8345bb22e994607b5ca056ec0a4cf2f": {
          "model_module": "@jupyter-widgets/base",
          "model_name": "LayoutModel",
          "model_module_version": "1.2.0",
          "state": {
            "_model_module": "@jupyter-widgets/base",
            "_model_module_version": "1.2.0",
            "_model_name": "LayoutModel",
            "_view_count": null,
            "_view_module": "@jupyter-widgets/base",
            "_view_module_version": "1.2.0",
            "_view_name": "LayoutView",
            "align_content": null,
            "align_items": null,
            "align_self": null,
            "border": null,
            "bottom": null,
            "display": null,
            "flex": null,
            "flex_flow": null,
            "grid_area": null,
            "grid_auto_columns": null,
            "grid_auto_flow": null,
            "grid_auto_rows": null,
            "grid_column": null,
            "grid_gap": null,
            "grid_row": null,
            "grid_template_areas": null,
            "grid_template_columns": null,
            "grid_template_rows": null,
            "height": null,
            "justify_content": null,
            "justify_items": null,
            "left": null,
            "margin": null,
            "max_height": null,
            "max_width": null,
            "min_height": null,
            "min_width": null,
            "object_fit": null,
            "object_position": null,
            "order": null,
            "overflow": null,
            "overflow_x": null,
            "overflow_y": null,
            "padding": null,
            "right": null,
            "top": null,
            "visibility": null,
            "width": null
          }
        },
        "e5a5696675224bd5ac42df7d2f090622": {
          "model_module": "@jupyter-widgets/base",
          "model_name": "LayoutModel",
          "model_module_version": "1.2.0",
          "state": {
            "_model_module": "@jupyter-widgets/base",
            "_model_module_version": "1.2.0",
            "_model_name": "LayoutModel",
            "_view_count": null,
            "_view_module": "@jupyter-widgets/base",
            "_view_module_version": "1.2.0",
            "_view_name": "LayoutView",
            "align_content": null,
            "align_items": null,
            "align_self": null,
            "border": null,
            "bottom": null,
            "display": null,
            "flex": null,
            "flex_flow": null,
            "grid_area": null,
            "grid_auto_columns": null,
            "grid_auto_flow": null,
            "grid_auto_rows": null,
            "grid_column": null,
            "grid_gap": null,
            "grid_row": null,
            "grid_template_areas": null,
            "grid_template_columns": null,
            "grid_template_rows": null,
            "height": null,
            "justify_content": null,
            "justify_items": null,
            "left": null,
            "margin": null,
            "max_height": null,
            "max_width": null,
            "min_height": null,
            "min_width": null,
            "object_fit": null,
            "object_position": null,
            "order": null,
            "overflow": null,
            "overflow_x": null,
            "overflow_y": null,
            "padding": null,
            "right": null,
            "top": null,
            "visibility": null,
            "width": null
          }
        },
        "576555f954484ff2a5280a4864912209": {
          "model_module": "@jupyter-widgets/controls",
          "model_name": "DescriptionStyleModel",
          "model_module_version": "1.5.0",
          "state": {
            "_model_module": "@jupyter-widgets/controls",
            "_model_module_version": "1.5.0",
            "_model_name": "DescriptionStyleModel",
            "_view_count": null,
            "_view_module": "@jupyter-widgets/base",
            "_view_module_version": "1.2.0",
            "_view_name": "StyleView",
            "description_width": ""
          }
        },
        "4d48192c0980463c84d49f0d952452b0": {
          "model_module": "@jupyter-widgets/base",
          "model_name": "LayoutModel",
          "model_module_version": "1.2.0",
          "state": {
            "_model_module": "@jupyter-widgets/base",
            "_model_module_version": "1.2.0",
            "_model_name": "LayoutModel",
            "_view_count": null,
            "_view_module": "@jupyter-widgets/base",
            "_view_module_version": "1.2.0",
            "_view_name": "LayoutView",
            "align_content": null,
            "align_items": null,
            "align_self": null,
            "border": null,
            "bottom": null,
            "display": null,
            "flex": null,
            "flex_flow": null,
            "grid_area": null,
            "grid_auto_columns": null,
            "grid_auto_flow": null,
            "grid_auto_rows": null,
            "grid_column": null,
            "grid_gap": null,
            "grid_row": null,
            "grid_template_areas": null,
            "grid_template_columns": null,
            "grid_template_rows": null,
            "height": null,
            "justify_content": null,
            "justify_items": null,
            "left": null,
            "margin": null,
            "max_height": null,
            "max_width": null,
            "min_height": null,
            "min_width": null,
            "object_fit": null,
            "object_position": null,
            "order": null,
            "overflow": null,
            "overflow_x": null,
            "overflow_y": null,
            "padding": null,
            "right": null,
            "top": null,
            "visibility": null,
            "width": null
          }
        },
        "d08b26301a3b40738f6620a0f3b2bab6": {
          "model_module": "@jupyter-widgets/controls",
          "model_name": "ProgressStyleModel",
          "model_module_version": "1.5.0",
          "state": {
            "_model_module": "@jupyter-widgets/controls",
            "_model_module_version": "1.5.0",
            "_model_name": "ProgressStyleModel",
            "_view_count": null,
            "_view_module": "@jupyter-widgets/base",
            "_view_module_version": "1.2.0",
            "_view_name": "StyleView",
            "bar_color": null,
            "description_width": ""
          }
        },
        "13ee8d513369438d87ecdb2e88989e78": {
          "model_module": "@jupyter-widgets/base",
          "model_name": "LayoutModel",
          "model_module_version": "1.2.0",
          "state": {
            "_model_module": "@jupyter-widgets/base",
            "_model_module_version": "1.2.0",
            "_model_name": "LayoutModel",
            "_view_count": null,
            "_view_module": "@jupyter-widgets/base",
            "_view_module_version": "1.2.0",
            "_view_name": "LayoutView",
            "align_content": null,
            "align_items": null,
            "align_self": null,
            "border": null,
            "bottom": null,
            "display": null,
            "flex": null,
            "flex_flow": null,
            "grid_area": null,
            "grid_auto_columns": null,
            "grid_auto_flow": null,
            "grid_auto_rows": null,
            "grid_column": null,
            "grid_gap": null,
            "grid_row": null,
            "grid_template_areas": null,
            "grid_template_columns": null,
            "grid_template_rows": null,
            "height": null,
            "justify_content": null,
            "justify_items": null,
            "left": null,
            "margin": null,
            "max_height": null,
            "max_width": null,
            "min_height": null,
            "min_width": null,
            "object_fit": null,
            "object_position": null,
            "order": null,
            "overflow": null,
            "overflow_x": null,
            "overflow_y": null,
            "padding": null,
            "right": null,
            "top": null,
            "visibility": null,
            "width": null
          }
        },
        "1b69bdec9a854693b02fb0d1444ec9d3": {
          "model_module": "@jupyter-widgets/controls",
          "model_name": "DescriptionStyleModel",
          "model_module_version": "1.5.0",
          "state": {
            "_model_module": "@jupyter-widgets/controls",
            "_model_module_version": "1.5.0",
            "_model_name": "DescriptionStyleModel",
            "_view_count": null,
            "_view_module": "@jupyter-widgets/base",
            "_view_module_version": "1.2.0",
            "_view_name": "StyleView",
            "description_width": ""
          }
        }
      }
    }
  },
  "cells": [
    {
      "cell_type": "markdown",
      "source": [
        "**Multiclass Argument Classification with Transformers**\n",
        "\n",
        "This notebook trains a transformer-based models to perform multiclass classification on a dataset of political statements annotated as: 'claim', 'premise', and, 'non-arg'.\n",
        "\n",
        "The goal is to automatically classify each sentence into one of these three argumentative categories using a fine-tuned Transformer model."
      ],
      "metadata": {
        "id": "MzRc1d633ZSz"
      }
    },
    {
      "cell_type": "code",
      "source": [
        "!pip install -r requirements.txt"
      ],
      "metadata": {
        "colab": {
          "base_uri": "https://localhost:8080/"
        },
        "id": "5XhFCJ8WRYxY",
        "outputId": "d120d994-fc50-47ef-e545-25ea271beb8b"
      },
      "execution_count": null,
      "outputs": [
        {
          "output_type": "stream",
          "name": "stdout",
          "text": [
            "Collecting cudf-cu12@ https://pypi.nvidia.com/cudf-cu12/cudf_cu12-25.2.1-cp311-cp311-manylinux_2_24_x86_64.manylinux_2_28_x86_64.whl (from -r requirements.txt (line 69))\n",
            "  Downloading https://pypi.nvidia.com/cudf-cu12/cudf_cu12-25.2.1-cp311-cp311-manylinux_2_24_x86_64.manylinux_2_28_x86_64.whl (2.2 MB)\n",
            "\u001b[2K     \u001b[90m━━━━━━━━━━━━━━━━━━━━━━━━━━━━━━━━━━━━━━━━\u001b[0m \u001b[32m2.2/2.2 MB\u001b[0m \u001b[31m104.0 MB/s\u001b[0m eta \u001b[36m0:00:00\u001b[0m\n",
            "\u001b[?25hCollecting en_core_web_sm@ https://github.com/explosion/spacy-models/releases/download/en_core_web_sm-3.8.0/en_core_web_sm-3.8.0-py3-none-any.whl#sha256=1932429db727d4bff3deed6b34cfc05df17794f4a52eeb26cf8928f7c1a0fb85 (from -r requirements.txt (line 110))\n",
            "  Downloading https://github.com/explosion/spacy-models/releases/download/en_core_web_sm-3.8.0/en_core_web_sm-3.8.0-py3-none-any.whl (12.8 MB)\n",
            "\u001b[2K     \u001b[90m━━━━━━━━━━━━━━━━━━━━━━━━━━━━━━━━━━━━━━━\u001b[0m \u001b[32m12.8/12.8 MB\u001b[0m \u001b[31m118.2 MB/s\u001b[0m eta \u001b[36m0:00:00\u001b[0m\n",
            "\u001b[?25hProcessing /colabtools/dist/google_colab-1.0.0.tar.gz (from -r requirements.txt (line 170))\n",
            "\u001b[31mERROR: Could not install packages due to an OSError: [Errno 2] No such file or directory: '/colabtools/dist/google_colab-1.0.0.tar.gz'\n",
            "\u001b[0m\u001b[31m\n",
            "\u001b[0m"
          ]
        }
      ]
    },
    {
      "cell_type": "code",
      "source": [
        "!pip install optuna"
      ],
      "metadata": {
        "colab": {
          "base_uri": "https://localhost:8080/"
        },
        "id": "RG6dXaoQpYBk",
        "outputId": "ac426664-c863-433d-d9fd-97536eec40d2"
      },
      "execution_count": null,
      "outputs": [
        {
          "output_type": "stream",
          "name": "stdout",
          "text": [
            "Collecting optuna\n",
            "  Downloading optuna-4.4.0-py3-none-any.whl.metadata (17 kB)\n",
            "Collecting alembic>=1.5.0 (from optuna)\n",
            "  Downloading alembic-1.16.4-py3-none-any.whl.metadata (7.3 kB)\n",
            "Collecting colorlog (from optuna)\n",
            "  Downloading colorlog-6.9.0-py3-none-any.whl.metadata (10 kB)\n",
            "Requirement already satisfied: numpy in /usr/local/lib/python3.11/dist-packages (from optuna) (2.0.2)\n",
            "Requirement already satisfied: packaging>=20.0 in /usr/local/lib/python3.11/dist-packages (from optuna) (24.2)\n",
            "Requirement already satisfied: sqlalchemy>=1.4.2 in /usr/local/lib/python3.11/dist-packages (from optuna) (2.0.41)\n",
            "Requirement already satisfied: tqdm in /usr/local/lib/python3.11/dist-packages (from optuna) (4.67.1)\n",
            "Requirement already satisfied: PyYAML in /usr/local/lib/python3.11/dist-packages (from optuna) (6.0.2)\n",
            "Requirement already satisfied: Mako in /usr/lib/python3/dist-packages (from alembic>=1.5.0->optuna) (1.1.3)\n",
            "Requirement already satisfied: typing-extensions>=4.12 in /usr/local/lib/python3.11/dist-packages (from alembic>=1.5.0->optuna) (4.14.1)\n",
            "Requirement already satisfied: greenlet>=1 in /usr/local/lib/python3.11/dist-packages (from sqlalchemy>=1.4.2->optuna) (3.2.3)\n",
            "Downloading optuna-4.4.0-py3-none-any.whl (395 kB)\n",
            "\u001b[2K   \u001b[90m━━━━━━━━━━━━━━━━━━━━━━━━━━━━━━━━━━━━━━━━\u001b[0m \u001b[32m395.9/395.9 kB\u001b[0m \u001b[31m30.3 MB/s\u001b[0m eta \u001b[36m0:00:00\u001b[0m\n",
            "\u001b[?25hDownloading alembic-1.16.4-py3-none-any.whl (247 kB)\n",
            "\u001b[2K   \u001b[90m━━━━━━━━━━━━━━━━━━━━━━━━━━━━━━━━━━━━━━━━\u001b[0m \u001b[32m247.0/247.0 kB\u001b[0m \u001b[31m25.9 MB/s\u001b[0m eta \u001b[36m0:00:00\u001b[0m\n",
            "\u001b[?25hDownloading colorlog-6.9.0-py3-none-any.whl (11 kB)\n",
            "Installing collected packages: colorlog, alembic, optuna\n",
            "Successfully installed alembic-1.16.4 colorlog-6.9.0 optuna-4.4.0\n"
          ]
        }
      ]
    },
    {
      "cell_type": "code",
      "execution_count": null,
      "metadata": {
        "colab": {
          "base_uri": "https://localhost:8080/"
        },
        "id": "l8d9fgqN3OWp",
        "outputId": "11c86d50-8365-40c6-fadf-6a77c4d66a37"
      },
      "outputs": [
        {
          "output_type": "execute_result",
          "data": {
            "text/plain": [
              "<torch._C.Generator at 0x7f19bc57c250>"
            ]
          },
          "metadata": {},
          "execution_count": 3
        }
      ],
      "source": [
        "# Imports and Setup\n",
        "\n",
        "import os\n",
        "import random\n",
        "import numpy as np\n",
        "import pandas as pd\n",
        "import torch\n",
        "from torch.utils.data import Dataset\n",
        "from transformers import (\n",
        "    AutoTokenizer, AutoModelForSequenceClassification,\n",
        "    Trainer, TrainingArguments, EarlyStoppingCallback, TrainerCallback\n",
        ")\n",
        "from sklearn.model_selection import train_test_split\n",
        "from sklearn.metrics import classification_report, confusion_matrix, ConfusionMatrixDisplay\n",
        "from sklearn.utils.class_weight import compute_class_weight\n",
        "import matplotlib.pyplot as plt\n",
        "import seaborn as sns\n",
        "import optuna\n",
        "\n",
        "# Disable WandB Logging\n",
        "os.environ[\"WANDB_DISABLED\"] = \"true\"\n",
        "\n",
        "# Reproducibility\n",
        "SEED = 42\n",
        "random.seed(SEED)\n",
        "np.random.seed(SEED)\n",
        "torch.manual_seed(SEED)"
      ]
    },
    {
      "cell_type": "code",
      "source": [
        "# Configuration\n",
        "# Model and Data Config\n",
        "MODEL_NAME = \"bert-base-uncased\"\n",
        "DATA_PATH = \"ArgUNSC_en_de.xlsx\"\n",
        "MAX_LEN = 256\n",
        "LABEL_MAP = {'claim': 0, 'premise': 1, 'non-arg': 2}\n",
        "NUM_LABELS = len(LABEL_MAP)"
      ],
      "metadata": {
        "id": "xpWdqy_O7MSX"
      },
      "execution_count": null,
      "outputs": []
    },
    {
      "cell_type": "code",
      "source": [
        "# Utility Functions\n",
        "def map_labels(dataframe):\n",
        "    dataframe['Task_Label'] = dataframe['Component_Type'].map(LABEL_MAP)\n",
        "    return dataframe\n",
        "\n",
        "def split_data(df):\n",
        "    train_df, temp_df = train_test_split(df, test_size=0.30, stratify=df['Task_Label'], random_state=SEED)\n",
        "    val_df, test_df = train_test_split(temp_df, test_size=0.50, stratify=temp_df['Task_Label'], random_state=SEED)\n",
        "    return train_df, val_df, test_df\n",
        "\n",
        "def get_class_weights(labels):\n",
        "    class_weights = compute_class_weight(class_weight=\"balanced\", classes=np.unique(labels), y=labels)\n",
        "    return torch.tensor(class_weights, dtype=torch.float)\n",
        "\n",
        "def save_misclassified(preds, labels, dataframe, tokenizer, path):\n",
        "    misclassified_mask = preds != labels\n",
        "    misclassified_df = dataframe[misclassified_mask].copy()\n",
        "    misclassified_df[\"Predicted_Label\"] = preds[misclassified_mask]\n",
        "    misclassified_df[\"True_Label\"] = labels[misclassified_mask]\n",
        "    misclassified_df.to_excel(path, index=False)\n",
        "    print(f\"Misclassified examples saved to: {path}\")\n",
        "\n",
        "def plot_confusion_matrix(y_true, y_pred, labels, title=\"Confusion Matrix\"):\n",
        "    cm = confusion_matrix(y_true, y_pred)\n",
        "    disp = ConfusionMatrixDisplay(confusion_matrix=cm, display_labels=labels)\n",
        "    disp.plot(cmap='Blues')\n",
        "    plt.title(title)\n",
        "    plt.show()\n"
      ],
      "metadata": {
        "id": "VEoDuILU7TQt"
      },
      "execution_count": null,
      "outputs": []
    },
    {
      "cell_type": "code",
      "source": [
        "# Dataset Class\n",
        "class ArgumentDataset(Dataset):\n",
        "    def __init__(self, dataframe, tokenizer, max_length=256):\n",
        "        self.dataframe = dataframe\n",
        "        self.tokenizer = tokenizer\n",
        "        self.max_length = max_length\n",
        "\n",
        "    def __len__(self):\n",
        "        return len(self.dataframe)\n",
        "\n",
        "    def __getitem__(self, index):\n",
        "        row = self.dataframe.iloc[index]\n",
        "        sentence = str(row['Full_Sentence']) if pd.notnull(row['Full_Sentence']) else \"\"\n",
        "        encoding = self.tokenizer(\n",
        "            sentence,\n",
        "            padding='max_length',\n",
        "            truncation=True,\n",
        "            max_length=self.max_length,\n",
        "            return_tensors=\"pt\"\n",
        "        )\n",
        "        label = int(row['Task_Label'])\n",
        "        return {\n",
        "            \"input_ids\": encoding['input_ids'].squeeze(0),\n",
        "            \"attention_mask\": encoding['attention_mask'].squeeze(0),\n",
        "            \"labels\": torch.tensor(label, dtype=torch.long)\n",
        "        }\n"
      ],
      "metadata": {
        "id": "JfVSA_6G7YPP"
      },
      "execution_count": null,
      "outputs": []
    },
    {
      "cell_type": "code",
      "source": [
        "# Custom Trainer\n",
        "class CustomTrainer(Trainer):\n",
        "    def __init__(self, class_weights, *args, **kwargs):\n",
        "        super().__init__(*args, **kwargs)\n",
        "        self.class_weights = class_weights.to(self.model.device)\n",
        "        self.loss_fn = torch.nn.CrossEntropyLoss(weight=self.class_weights)\n",
        "\n",
        "    def compute_loss(self, model, inputs, return_outputs=False, **kwargs):\n",
        "      labels = inputs.pop(\"labels\")\n",
        "      outputs = model(**inputs)\n",
        "      loss = self.loss_fn(outputs.logits, labels)\n",
        "      return (loss, outputs) if return_outputs else loss\n"
      ],
      "metadata": {
        "id": "FpERcInw7cFD"
      },
      "execution_count": null,
      "outputs": []
    },
    {
      "cell_type": "code",
      "source": [
        "# Load Data\n",
        "df = pd.read_excel(DATA_PATH)\n",
        "df = map_labels(df)\n",
        "print(f\"Total dataset size: {len(df)}\")\n",
        "\n",
        "train_df, val_df, test_df = split_data(df)\n",
        "print(f\"Training size: {len(train_df)}, Validation size: {len(val_df)}, Test size: {len(test_df)}\")\n"
      ],
      "metadata": {
        "colab": {
          "base_uri": "https://localhost:8080/"
        },
        "id": "tHgv0L457hDR",
        "outputId": "a988cf8d-2092-4dc0-b3c7-ffb61a6b9318"
      },
      "execution_count": null,
      "outputs": [
        {
          "output_type": "stream",
          "name": "stdout",
          "text": [
            "Total dataset size: 5244\n",
            "Training size: 3670, Validation size: 787, Test size: 787\n"
          ]
        }
      ]
    },
    {
      "cell_type": "code",
      "source": [
        "# Tokenizer, Dataset & Class Weights\n",
        "tokenizer = AutoTokenizer.from_pretrained(MODEL_NAME)\n",
        "\n",
        "train_dataset = ArgumentDataset(train_df, tokenizer, MAX_LEN)\n",
        "val_dataset = ArgumentDataset(val_df, tokenizer, MAX_LEN)\n",
        "test_dataset = ArgumentDataset(test_df, tokenizer, MAX_LEN)\n",
        "\n",
        "class_weights = get_class_weights(train_df[\"Task_Label\"].values)\n"
      ],
      "metadata": {
        "id": "DP3gyBbN7jlV",
        "colab": {
          "base_uri": "https://localhost:8080/",
          "height": 269,
          "referenced_widgets": [
            "ab546578c76b4a189c04b5baa824b99c",
            "91d53d7c542e44db81710de530acbd9a",
            "c33791d9752246189a8368c947341b79",
            "2e6ff711d422475fbdabd4981e77dfe2",
            "ce862dbef00e4bd1a2566f8dc5e1e9c9",
            "5893da70c254440cb9a9397f2467364c",
            "816218fb4acb42cf83fa724a13a9fdd6",
            "71f8184f7c5e4945ba435badcc854879",
            "4761c9b19536457898f67de781c68ef4",
            "1b6ab4ec9f3441dba812f85f3e19c8da",
            "536d762ed4be4b19aa6c1b42926ea20b",
            "5d50f5a38ab94d8596140871afe24e8d",
            "281badb9267c4502b26a41098a4048c2",
            "18944608697843289a93c696ca22d8d1",
            "36416ae1f8244ce5bc27f52131e6cbc2",
            "127574629d854654bf550c1d37eff230",
            "6fc7e72286a943d688e6e4a321143ecf",
            "02bf12fe869a415ea6ea55d516aa3fe4",
            "c04a5ea7b0af48a099762ca2dfe6c920",
            "e9cbcc740e32490a8d258026596ca63e",
            "2713d0e5b9704876a849e93ffb69e61a",
            "b4216fa2ee764a878aea39afab65b2cd",
            "07b5903af2b640ed95a0ede5195a4999",
            "f88b3c95d75b42d4b8a40f650cbf1538",
            "8b47295e891e4b798283a9eb2cff1cbc",
            "1ba5a62a669d4fc78c4e4496f386af78",
            "885cf61583e944f7ab3de34011af85ef",
            "02b4001ea52e459a9f311b8142d22e65",
            "c30c65854dd8454a8a94fc770d71d8b0",
            "7c381872638943ba864b26b516d3373a",
            "b5f5e0d6b6974c35b9ca9ae6fa11a9d8",
            "24ca14d307ed4b25a5ca435b261cda15",
            "d9921ef738e045b694164272ac71794b",
            "7a8afc214c7f4fd1ae1f818b8f14ada4",
            "a1ba8656757d4960a5575c966a30b5d2",
            "3410bcc3130548eaa0f9289ae54637b3",
            "0a3d4ac5dd1546648c025618e13b4a7c",
            "963db46522b840acab2261870ee44799",
            "be3e9e410f044fa9b785b36a98602e8d",
            "64f231da8d1a4ee4bd7c5402eee29bb2",
            "aefa95770da846efb62e2cee3a9a7257",
            "7a3470cc450e442198a57e2c371fc161",
            "feac97ce596b4bc5bd391f658ba77fa3",
            "4cb44074a50941c6b598b9705984d302"
          ]
        },
        "outputId": "7e0531d5-edfc-4305-d973-6165eb3438e7"
      },
      "execution_count": null,
      "outputs": [
        {
          "output_type": "stream",
          "name": "stderr",
          "text": [
            "/usr/local/lib/python3.11/dist-packages/huggingface_hub/utils/_auth.py:94: UserWarning: \n",
            "The secret `HF_TOKEN` does not exist in your Colab secrets.\n",
            "To authenticate with the Hugging Face Hub, create a token in your settings tab (https://huggingface.co/settings/tokens), set it as secret in your Google Colab and restart your session.\n",
            "You will be able to reuse this secret in all of your notebooks.\n",
            "Please note that authentication is recommended but still optional to access public models or datasets.\n",
            "  warnings.warn(\n"
          ]
        },
        {
          "output_type": "display_data",
          "data": {
            "text/plain": [
              "tokenizer_config.json:   0%|          | 0.00/48.0 [00:00<?, ?B/s]"
            ],
            "application/vnd.jupyter.widget-view+json": {
              "version_major": 2,
              "version_minor": 0,
              "model_id": "ab546578c76b4a189c04b5baa824b99c"
            }
          },
          "metadata": {}
        },
        {
          "output_type": "display_data",
          "data": {
            "text/plain": [
              "config.json:   0%|          | 0.00/570 [00:00<?, ?B/s]"
            ],
            "application/vnd.jupyter.widget-view+json": {
              "version_major": 2,
              "version_minor": 0,
              "model_id": "5d50f5a38ab94d8596140871afe24e8d"
            }
          },
          "metadata": {}
        },
        {
          "output_type": "display_data",
          "data": {
            "text/plain": [
              "vocab.txt:   0%|          | 0.00/232k [00:00<?, ?B/s]"
            ],
            "application/vnd.jupyter.widget-view+json": {
              "version_major": 2,
              "version_minor": 0,
              "model_id": "07b5903af2b640ed95a0ede5195a4999"
            }
          },
          "metadata": {}
        },
        {
          "output_type": "display_data",
          "data": {
            "text/plain": [
              "tokenizer.json:   0%|          | 0.00/466k [00:00<?, ?B/s]"
            ],
            "application/vnd.jupyter.widget-view+json": {
              "version_major": 2,
              "version_minor": 0,
              "model_id": "7a8afc214c7f4fd1ae1f818b8f14ada4"
            }
          },
          "metadata": {}
        }
      ]
    },
    {
      "cell_type": "code",
      "source": [
        "# Initialize Model\n",
        "def model_init():\n",
        "    return AutoModelForSequenceClassification.from_pretrained(MODEL_NAME, num_labels=3)\n"
      ],
      "metadata": {
        "id": "2-7eHa6J7pxv"
      },
      "execution_count": null,
      "outputs": []
    },
    {
      "cell_type": "code",
      "source": [
        "# Hyperparameter Search\n",
        "# Define the search space\n",
        "def hp_space(trial):\n",
        "    return {\n",
        "        \"learning_rate\": trial.suggest_float(\"learning_rate\", 1e-5, 5e-5, log=True),\n",
        "        \"num_train_epochs\": trial.suggest_int(\"num_train_epochs\", 2, 5),\n",
        "        \"per_device_train_batch_size\": trial.suggest_categorical(\"per_device_train_batch_size\", [8, 16, 32]),\n",
        "    }\n",
        "\n",
        "# TrainingArguments for the search\n",
        "search_args = TrainingArguments(\n",
        "    output_dir=\"./results_search\",\n",
        "    num_train_epochs=2,\n",
        "    per_device_train_batch_size=16,\n",
        "    per_device_eval_batch_size=16,\n",
        "    logging_dir=\"./logs\",\n",
        "    report_to=\"none\",\n",
        "    seed=42\n",
        ")\n",
        "\n",
        "# Trainer setup with model_init\n",
        "trainer = CustomTrainer(\n",
        "    class_weights=class_weights,\n",
        "    model_init=model_init,\n",
        "    args=search_args,\n",
        "    train_dataset=train_dataset,\n",
        "    eval_dataset=val_dataset,\n",
        ")\n",
        "\n",
        "# Run hyperparameter search\n",
        "print(\"Starting hyperparameter search...\\n\")\n",
        "\n",
        "best_run = trainer.hyperparameter_search(\n",
        "    direction=\"minimize\",\n",
        "    hp_space=hp_space,\n",
        "    n_trials=10,\n",
        "    compute_objective=lambda metrics: metrics[\"eval_loss\"]\n",
        ")\n",
        "\n",
        "# Log best run only\n",
        "print(\"\\nBest Hyperparameters Found:\")\n",
        "print(f\"  - Learning rate: {best_run.hyperparameters['learning_rate']}\")\n",
        "print(f\"  - Epochs: {best_run.hyperparameters['num_train_epochs']}\")\n",
        "print(f\"  - Batch size: {best_run.hyperparameters['per_device_train_batch_size']}\")\n",
        "print(f\"  - Validation loss: {best_run.objective}\")"
      ],
      "metadata": {
        "colab": {
          "base_uri": "https://localhost:8080/",
          "height": 1000,
          "referenced_widgets": [
            "7db6d219d4314705b7595a2a3bd9013e",
            "1800ccd29d1a420cba3917e53ce3a30b",
            "e1e1584f2c784d14883985fac85c5a4e",
            "eef9a9e15a2c4950be7184fd23f7808f",
            "b8345bb22e994607b5ca056ec0a4cf2f",
            "e5a5696675224bd5ac42df7d2f090622",
            "576555f954484ff2a5280a4864912209",
            "4d48192c0980463c84d49f0d952452b0",
            "d08b26301a3b40738f6620a0f3b2bab6",
            "13ee8d513369438d87ecdb2e88989e78",
            "1b69bdec9a854693b02fb0d1444ec9d3"
          ]
        },
        "id": "17Y6WbD27txQ",
        "outputId": "30ec0258-36b1-4024-94d4-80fcb3973f2d"
      },
      "execution_count": null,
      "outputs": [
        {
          "output_type": "display_data",
          "data": {
            "text/plain": [
              "model.safetensors:   0%|          | 0.00/440M [00:00<?, ?B/s]"
            ],
            "application/vnd.jupyter.widget-view+json": {
              "version_major": 2,
              "version_minor": 0,
              "model_id": "7db6d219d4314705b7595a2a3bd9013e"
            }
          },
          "metadata": {}
        },
        {
          "output_type": "stream",
          "name": "stderr",
          "text": [
            "Some weights of BertForSequenceClassification were not initialized from the model checkpoint at bert-base-uncased and are newly initialized: ['classifier.bias', 'classifier.weight']\n",
            "You should probably TRAIN this model on a down-stream task to be able to use it for predictions and inference.\n",
            "Using the `WANDB_DISABLED` environment variable is deprecated and will be removed in v5. Use the --report_to flag to control the integrations used for logging result (for instance --report_to none).\n",
            "[I 2025-07-15 01:29:03,300] A new study created in memory with name: no-name-840a5411-1bac-4733-b3b1-fef662215b18\n"
          ]
        },
        {
          "output_type": "stream",
          "name": "stdout",
          "text": [
            "Starting hyperparameter search...\n",
            "\n"
          ]
        },
        {
          "output_type": "stream",
          "name": "stderr",
          "text": [
            "Some weights of BertForSequenceClassification were not initialized from the model checkpoint at bert-base-uncased and are newly initialized: ['classifier.bias', 'classifier.weight']\n",
            "You should probably TRAIN this model on a down-stream task to be able to use it for predictions and inference.\n"
          ]
        },
        {
          "output_type": "display_data",
          "data": {
            "text/plain": [
              "<IPython.core.display.HTML object>"
            ],
            "text/html": [
              "\n",
              "    <div>\n",
              "      \n",
              "      <progress value='1836' max='1836' style='width:300px; height:20px; vertical-align: middle;'></progress>\n",
              "      [1836/1836 02:55, Epoch 4/4]\n",
              "    </div>\n",
              "    <table border=\"1\" class=\"dataframe\">\n",
              "  <thead>\n",
              " <tr style=\"text-align: left;\">\n",
              "      <th>Step</th>\n",
              "      <th>Training Loss</th>\n",
              "    </tr>\n",
              "  </thead>\n",
              "  <tbody>\n",
              "    <tr>\n",
              "      <td>500</td>\n",
              "      <td>0.841900</td>\n",
              "    </tr>\n",
              "    <tr>\n",
              "      <td>1000</td>\n",
              "      <td>0.582900</td>\n",
              "    </tr>\n",
              "    <tr>\n",
              "      <td>1500</td>\n",
              "      <td>0.362100</td>\n",
              "    </tr>\n",
              "  </tbody>\n",
              "</table><p>"
            ]
          },
          "metadata": {}
        },
        {
          "output_type": "display_data",
          "data": {
            "text/plain": [
              "<IPython.core.display.HTML object>"
            ],
            "text/html": [
              "\n",
              "    <div>\n",
              "      \n",
              "      <progress value='500' max='50' style='width:300px; height:20px; vertical-align: middle;'></progress>\n",
              "      [50/50 22:01]\n",
              "    </div>\n",
              "    "
            ]
          },
          "metadata": {}
        },
        {
          "output_type": "stream",
          "name": "stderr",
          "text": [
            "[I 2025-07-15 01:32:03,916] Trial 0 finished with value: 1.1750434637069702 and parameters: {'learning_rate': 2.7537261975131117e-05, 'num_train_epochs': 4, 'per_device_train_batch_size': 8}. Best is trial 0 with value: 1.1750434637069702.\n",
            "Some weights of BertForSequenceClassification were not initialized from the model checkpoint at bert-base-uncased and are newly initialized: ['classifier.bias', 'classifier.weight']\n",
            "You should probably TRAIN this model on a down-stream task to be able to use it for predictions and inference.\n"
          ]
        },
        {
          "output_type": "display_data",
          "data": {
            "text/plain": [
              "<IPython.core.display.HTML object>"
            ],
            "text/html": [
              "\n",
              "    <div>\n",
              "      \n",
              "      <progress value='345' max='345' style='width:300px; height:20px; vertical-align: middle;'></progress>\n",
              "      [345/345 01:47, Epoch 3/3]\n",
              "    </div>\n",
              "    <table border=\"1\" class=\"dataframe\">\n",
              "  <thead>\n",
              " <tr style=\"text-align: left;\">\n",
              "      <th>Step</th>\n",
              "      <th>Training Loss</th>\n",
              "    </tr>\n",
              "  </thead>\n",
              "  <tbody>\n",
              "  </tbody>\n",
              "</table><p>"
            ]
          },
          "metadata": {}
        },
        {
          "output_type": "stream",
          "name": "stderr",
          "text": [
            "[I 2025-07-15 01:33:56,427] Trial 1 finished with value: 0.7333288192749023 and parameters: {'learning_rate': 2.053790454752943e-05, 'num_train_epochs': 3, 'per_device_train_batch_size': 32}. Best is trial 1 with value: 0.7333288192749023.\n",
            "Some weights of BertForSequenceClassification were not initialized from the model checkpoint at bert-base-uncased and are newly initialized: ['classifier.bias', 'classifier.weight']\n",
            "You should probably TRAIN this model on a down-stream task to be able to use it for predictions and inference.\n"
          ]
        },
        {
          "output_type": "display_data",
          "data": {
            "text/plain": [
              "<IPython.core.display.HTML object>"
            ],
            "text/html": [
              "\n",
              "    <div>\n",
              "      \n",
              "      <progress value='2295' max='2295' style='width:300px; height:20px; vertical-align: middle;'></progress>\n",
              "      [2295/2295 03:38, Epoch 5/5]\n",
              "    </div>\n",
              "    <table border=\"1\" class=\"dataframe\">\n",
              "  <thead>\n",
              " <tr style=\"text-align: left;\">\n",
              "      <th>Step</th>\n",
              "      <th>Training Loss</th>\n",
              "    </tr>\n",
              "  </thead>\n",
              "  <tbody>\n",
              "    <tr>\n",
              "      <td>500</td>\n",
              "      <td>0.838500</td>\n",
              "    </tr>\n",
              "    <tr>\n",
              "      <td>1000</td>\n",
              "      <td>0.599200</td>\n",
              "    </tr>\n",
              "    <tr>\n",
              "      <td>1500</td>\n",
              "      <td>0.420300</td>\n",
              "    </tr>\n",
              "    <tr>\n",
              "      <td>2000</td>\n",
              "      <td>0.330200</td>\n",
              "    </tr>\n",
              "  </tbody>\n",
              "</table><p>"
            ]
          },
          "metadata": {}
        },
        {
          "output_type": "stream",
          "name": "stderr",
          "text": [
            "[I 2025-07-15 01:37:39,653] Trial 2 finished with value: 1.0715166330337524 and parameters: {'learning_rate': 1.278945070733615e-05, 'num_train_epochs': 5, 'per_device_train_batch_size': 8}. Best is trial 1 with value: 0.7333288192749023.\n",
            "Some weights of BertForSequenceClassification were not initialized from the model checkpoint at bert-base-uncased and are newly initialized: ['classifier.bias', 'classifier.weight']\n",
            "You should probably TRAIN this model on a down-stream task to be able to use it for predictions and inference.\n"
          ]
        },
        {
          "output_type": "display_data",
          "data": {
            "text/plain": [
              "<IPython.core.display.HTML object>"
            ],
            "text/html": [
              "\n",
              "    <div>\n",
              "      \n",
              "      <progress value='690' max='690' style='width:300px; height:20px; vertical-align: middle;'></progress>\n",
              "      [690/690 01:57, Epoch 3/3]\n",
              "    </div>\n",
              "    <table border=\"1\" class=\"dataframe\">\n",
              "  <thead>\n",
              " <tr style=\"text-align: left;\">\n",
              "      <th>Step</th>\n",
              "      <th>Training Loss</th>\n",
              "    </tr>\n",
              "  </thead>\n",
              "  <tbody>\n",
              "    <tr>\n",
              "      <td>500</td>\n",
              "      <td>0.762400</td>\n",
              "    </tr>\n",
              "  </tbody>\n",
              "</table><p>"
            ]
          },
          "metadata": {}
        },
        {
          "output_type": "stream",
          "name": "stderr",
          "text": [
            "[I 2025-07-15 01:39:41,912] Trial 3 finished with value: 0.7263875603675842 and parameters: {'learning_rate': 1.0271722777765693e-05, 'num_train_epochs': 3, 'per_device_train_batch_size': 16}. Best is trial 3 with value: 0.7263875603675842.\n",
            "Some weights of BertForSequenceClassification were not initialized from the model checkpoint at bert-base-uncased and are newly initialized: ['classifier.bias', 'classifier.weight']\n",
            "You should probably TRAIN this model on a down-stream task to be able to use it for predictions and inference.\n"
          ]
        },
        {
          "output_type": "display_data",
          "data": {
            "text/plain": [
              "<IPython.core.display.HTML object>"
            ],
            "text/html": [
              "\n",
              "    <div>\n",
              "      \n",
              "      <progress value='918' max='918' style='width:300px; height:20px; vertical-align: middle;'></progress>\n",
              "      [918/918 01:27, Epoch 2/2]\n",
              "    </div>\n",
              "    <table border=\"1\" class=\"dataframe\">\n",
              "  <thead>\n",
              " <tr style=\"text-align: left;\">\n",
              "      <th>Step</th>\n",
              "      <th>Training Loss</th>\n",
              "    </tr>\n",
              "  </thead>\n",
              "  <tbody>\n",
              "    <tr>\n",
              "      <td>500</td>\n",
              "      <td>0.806700</td>\n",
              "    </tr>\n",
              "  </tbody>\n",
              "</table><p>"
            ]
          },
          "metadata": {}
        },
        {
          "output_type": "stream",
          "name": "stderr",
          "text": [
            "[I 2025-07-15 01:41:13,637] Trial 4 finished with value: 0.7718515396118164 and parameters: {'learning_rate': 1.5255339840583584e-05, 'num_train_epochs': 2, 'per_device_train_batch_size': 8}. Best is trial 3 with value: 0.7263875603675842.\n",
            "Some weights of BertForSequenceClassification were not initialized from the model checkpoint at bert-base-uncased and are newly initialized: ['classifier.bias', 'classifier.weight']\n",
            "You should probably TRAIN this model on a down-stream task to be able to use it for predictions and inference.\n"
          ]
        },
        {
          "output_type": "display_data",
          "data": {
            "text/plain": [
              "<IPython.core.display.HTML object>"
            ],
            "text/html": [
              "\n",
              "    <div>\n",
              "      \n",
              "      <progress value='460' max='460' style='width:300px; height:20px; vertical-align: middle;'></progress>\n",
              "      [460/460 02:23, Epoch 4/4]\n",
              "    </div>\n",
              "    <table border=\"1\" class=\"dataframe\">\n",
              "  <thead>\n",
              " <tr style=\"text-align: left;\">\n",
              "      <th>Step</th>\n",
              "      <th>Training Loss</th>\n",
              "    </tr>\n",
              "  </thead>\n",
              "  <tbody>\n",
              "  </tbody>\n",
              "</table><p>"
            ]
          },
          "metadata": {}
        },
        {
          "output_type": "stream",
          "name": "stderr",
          "text": [
            "[I 2025-07-15 01:43:41,542] Trial 5 finished with value: 1.022041916847229 and parameters: {'learning_rate': 4.7387487462918337e-05, 'num_train_epochs': 4, 'per_device_train_batch_size': 32}. Best is trial 3 with value: 0.7263875603675842.\n",
            "Some weights of BertForSequenceClassification were not initialized from the model checkpoint at bert-base-uncased and are newly initialized: ['classifier.bias', 'classifier.weight']\n",
            "You should probably TRAIN this model on a down-stream task to be able to use it for predictions and inference.\n"
          ]
        },
        {
          "output_type": "display_data",
          "data": {
            "text/plain": [
              "<IPython.core.display.HTML object>"
            ],
            "text/html": [
              "\n",
              "    <div>\n",
              "      \n",
              "      <progress value='920' max='920' style='width:300px; height:20px; vertical-align: middle;'></progress>\n",
              "      [920/920 02:36, Epoch 4/4]\n",
              "    </div>\n",
              "    <table border=\"1\" class=\"dataframe\">\n",
              "  <thead>\n",
              " <tr style=\"text-align: left;\">\n",
              "      <th>Step</th>\n",
              "      <th>Training Loss</th>\n",
              "    </tr>\n",
              "  </thead>\n",
              "  <tbody>\n",
              "    <tr>\n",
              "      <td>500</td>\n",
              "      <td>0.659100</td>\n",
              "    </tr>\n",
              "  </tbody>\n",
              "</table><p>"
            ]
          },
          "metadata": {}
        },
        {
          "output_type": "stream",
          "name": "stderr",
          "text": [
            "[I 2025-07-15 01:46:22,803] Trial 6 finished with value: 1.0741875171661377 and parameters: {'learning_rate': 3.027015370039407e-05, 'num_train_epochs': 4, 'per_device_train_batch_size': 16}. Best is trial 3 with value: 0.7263875603675842.\n",
            "Some weights of BertForSequenceClassification were not initialized from the model checkpoint at bert-base-uncased and are newly initialized: ['classifier.bias', 'classifier.weight']\n",
            "You should probably TRAIN this model on a down-stream task to be able to use it for predictions and inference.\n"
          ]
        },
        {
          "output_type": "display_data",
          "data": {
            "text/plain": [
              "<IPython.core.display.HTML object>"
            ],
            "text/html": [
              "\n",
              "    <div>\n",
              "      \n",
              "      <progress value='1377' max='1377' style='width:300px; height:20px; vertical-align: middle;'></progress>\n",
              "      [1377/1377 02:11, Epoch 3/3]\n",
              "    </div>\n",
              "    <table border=\"1\" class=\"dataframe\">\n",
              "  <thead>\n",
              " <tr style=\"text-align: left;\">\n",
              "      <th>Step</th>\n",
              "      <th>Training Loss</th>\n",
              "    </tr>\n",
              "  </thead>\n",
              "  <tbody>\n",
              "    <tr>\n",
              "      <td>500</td>\n",
              "      <td>0.805400</td>\n",
              "    </tr>\n",
              "    <tr>\n",
              "      <td>1000</td>\n",
              "      <td>0.557000</td>\n",
              "    </tr>\n",
              "  </tbody>\n",
              "</table><p>"
            ]
          },
          "metadata": {}
        },
        {
          "output_type": "stream",
          "name": "stderr",
          "text": [
            "[I 2025-07-15 01:48:41,205] Trial 7 finished with value: 0.8538534641265869 and parameters: {'learning_rate': 1.5289990409634478e-05, 'num_train_epochs': 3, 'per_device_train_batch_size': 8}. Best is trial 3 with value: 0.7263875603675842.\n",
            "Some weights of BertForSequenceClassification were not initialized from the model checkpoint at bert-base-uncased and are newly initialized: ['classifier.bias', 'classifier.weight']\n",
            "You should probably TRAIN this model on a down-stream task to be able to use it for predictions and inference.\n"
          ]
        },
        {
          "output_type": "display_data",
          "data": {
            "text/plain": [
              "<IPython.core.display.HTML object>"
            ],
            "text/html": [
              "\n",
              "    <div>\n",
              "      \n",
              "      <progress value='575' max='575' style='width:300px; height:20px; vertical-align: middle;'></progress>\n",
              "      [575/575 03:00, Epoch 5/5]\n",
              "    </div>\n",
              "    <table border=\"1\" class=\"dataframe\">\n",
              "  <thead>\n",
              " <tr style=\"text-align: left;\">\n",
              "      <th>Step</th>\n",
              "      <th>Training Loss</th>\n",
              "    </tr>\n",
              "  </thead>\n",
              "  <tbody>\n",
              "    <tr>\n",
              "      <td>500</td>\n",
              "      <td>0.526200</td>\n",
              "    </tr>\n",
              "  </tbody>\n",
              "</table><p>"
            ]
          },
          "metadata": {}
        },
        {
          "output_type": "stream",
          "name": "stderr",
          "text": [
            "[I 2025-07-15 01:51:46,644] Trial 8 finished with value: 0.9950200915336609 and parameters: {'learning_rate': 2.9913118483430616e-05, 'num_train_epochs': 5, 'per_device_train_batch_size': 32}. Best is trial 3 with value: 0.7263875603675842.\n",
            "Some weights of BertForSequenceClassification were not initialized from the model checkpoint at bert-base-uncased and are newly initialized: ['classifier.bias', 'classifier.weight']\n",
            "You should probably TRAIN this model on a down-stream task to be able to use it for predictions and inference.\n"
          ]
        },
        {
          "output_type": "display_data",
          "data": {
            "text/plain": [
              "<IPython.core.display.HTML object>"
            ],
            "text/html": [
              "\n",
              "    <div>\n",
              "      \n",
              "      <progress value='1377' max='1377' style='width:300px; height:20px; vertical-align: middle;'></progress>\n",
              "      [1377/1377 02:11, Epoch 3/3]\n",
              "    </div>\n",
              "    <table border=\"1\" class=\"dataframe\">\n",
              "  <thead>\n",
              " <tr style=\"text-align: left;\">\n",
              "      <th>Step</th>\n",
              "      <th>Training Loss</th>\n",
              "    </tr>\n",
              "  </thead>\n",
              "  <tbody>\n",
              "    <tr>\n",
              "      <td>500</td>\n",
              "      <td>0.860700</td>\n",
              "    </tr>\n",
              "    <tr>\n",
              "      <td>1000</td>\n",
              "      <td>0.611200</td>\n",
              "    </tr>\n",
              "  </tbody>\n",
              "</table><p>"
            ]
          },
          "metadata": {}
        },
        {
          "output_type": "stream",
          "name": "stderr",
          "text": [
            "[I 2025-07-15 01:54:02,424] Trial 9 finished with value: 0.970844566822052 and parameters: {'learning_rate': 4.5685539516438266e-05, 'num_train_epochs': 3, 'per_device_train_batch_size': 8}. Best is trial 3 with value: 0.7263875603675842.\n"
          ]
        },
        {
          "output_type": "stream",
          "name": "stdout",
          "text": [
            "\n",
            "Best Hyperparameters Found:\n",
            "  - Learning rate: 1.0271722777765693e-05\n",
            "  - Epochs: 3\n",
            "  - Batch size: 16\n",
            "  - Validation loss: 0.7263875603675842\n"
          ]
        }
      ]
    },
    {
      "cell_type": "code",
      "source": [
        "# Final Training\n",
        "# Reinitialize TrainingArguments with best hyperparams\n",
        "final_args = TrainingArguments(\n",
        "    output_dir=\"./final_model\",\n",
        "    num_train_epochs=best_run.hyperparameters[\"num_train_epochs\"],\n",
        "    per_device_train_batch_size=best_run.hyperparameters[\"per_device_train_batch_size\"],\n",
        "    per_device_eval_batch_size=best_run.hyperparameters[\"per_device_train_batch_size\"],\n",
        "    learning_rate=best_run.hyperparameters[\"learning_rate\"],\n",
        "    logging_dir='./logs',\n",
        "    report_to=\"none\",\n",
        "    seed=SEED\n",
        ")\n",
        "\n",
        "# Reinitialize the model with best config\n",
        "final_model = model_init()\n",
        "\n",
        "# Merge train + val for final training\n",
        "final_train_dataset = train_dataset + val_dataset\n",
        "\n",
        "# Recreate the trainer\n",
        "final_trainer = CustomTrainer(\n",
        "    class_weights=class_weights,\n",
        "    model=final_model,\n",
        "    args=final_args,\n",
        "    train_dataset=final_train_dataset,\n",
        "    eval_dataset=test_dataset\n",
        ")\n",
        "\n",
        "# Final training\n",
        "final_trainer.train()\n"
      ],
      "metadata": {
        "id": "vlsjy8FN7wn6",
        "colab": {
          "base_uri": "https://localhost:8080/",
          "height": 214
        },
        "outputId": "0b80b314-7fe9-40c0-c875-dd6b0fe4e3d5"
      },
      "execution_count": null,
      "outputs": [
        {
          "output_type": "stream",
          "name": "stderr",
          "text": [
            "Some weights of BertForSequenceClassification were not initialized from the model checkpoint at bert-base-uncased and are newly initialized: ['classifier.bias', 'classifier.weight']\n",
            "You should probably TRAIN this model on a down-stream task to be able to use it for predictions and inference.\n"
          ]
        },
        {
          "output_type": "display_data",
          "data": {
            "text/plain": [
              "<IPython.core.display.HTML object>"
            ],
            "text/html": [
              "\n",
              "    <div>\n",
              "      \n",
              "      <progress value='837' max='837' style='width:300px; height:20px; vertical-align: middle;'></progress>\n",
              "      [837/837 02:22, Epoch 3/3]\n",
              "    </div>\n",
              "    <table border=\"1\" class=\"dataframe\">\n",
              "  <thead>\n",
              " <tr style=\"text-align: left;\">\n",
              "      <th>Step</th>\n",
              "      <th>Training Loss</th>\n",
              "    </tr>\n",
              "  </thead>\n",
              "  <tbody>\n",
              "    <tr>\n",
              "      <td>500</td>\n",
              "      <td>0.774400</td>\n",
              "    </tr>\n",
              "  </tbody>\n",
              "</table><p>"
            ]
          },
          "metadata": {}
        },
        {
          "output_type": "execute_result",
          "data": {
            "text/plain": [
              "TrainOutput(global_step=837, training_loss=0.6866315798377762, metrics={'train_runtime': 142.5032, 'train_samples_per_second': 93.829, 'train_steps_per_second': 5.874, 'total_flos': 1759044754220544.0, 'train_loss': 0.6866315798377762, 'epoch': 3.0})"
            ]
          },
          "metadata": {},
          "execution_count": 12
        }
      ]
    },
    {
      "cell_type": "code",
      "source": [
        "# Evaluation and Saving\n",
        "print(\"\\nEvaluating on test set...\")\n",
        "\n",
        "# Predict\n",
        "predictions = final_trainer.predict(test_dataset)\n",
        "y_pred = torch.argmax(torch.tensor(predictions.predictions), axis=1).numpy()\n",
        "y_true = predictions.label_ids\n",
        "\n",
        "# Report results\n",
        "print(classification_report(y_true, y_pred, target_names=list(LABEL_MAP.keys())))\n",
        "plot_confusion_matrix(y_true, y_pred, labels=list(LABEL_MAP.keys()))\n",
        "\n",
        "# Clean up names for output\n",
        "safe_model_name = MODEL_NAME.replace(\"/\", \"_\")\n",
        "safe_dataset_name = DATA_PATH.replace(\".xlsx\", \"\").replace(\" \", \"_\")\n",
        "\n",
        "# Save final model and tokenizer\n",
        "model_path = f\"./final_model_{safe_model_name}_{safe_dataset_name}\"\n",
        "final_trainer.save_model(model_path)\n",
        "tokenizer.save_pretrained(model_path)\n",
        "print(f\"Final model saved to: {model_path}\")\n",
        "\n",
        "# Save misclassified examples for manual inspection\n",
        "misclassified_filename = f\"misclassified_{safe_model_name}_{safe_dataset_name}.xlsx\"\n",
        "save_misclassified(y_pred, y_true, test_df.reset_index(drop=True), tokenizer, misclassified_filename)\n",
        "print(f\"Misclassified examples saved to: {misclassified_filename}\")\n"
      ],
      "metadata": {
        "id": "0Es5BNkV71EO",
        "colab": {
          "base_uri": "https://localhost:8080/",
          "height": 732
        },
        "outputId": "9151a0a7-7895-4f3a-9c75-31831f22d7ae"
      },
      "execution_count": null,
      "outputs": [
        {
          "output_type": "stream",
          "name": "stdout",
          "text": [
            "\n",
            "Evaluating on test set...\n"
          ]
        },
        {
          "output_type": "display_data",
          "data": {
            "text/plain": [
              "<IPython.core.display.HTML object>"
            ],
            "text/html": []
          },
          "metadata": {}
        },
        {
          "output_type": "stream",
          "name": "stdout",
          "text": [
            "              precision    recall  f1-score   support\n",
            "\n",
            "       claim       0.69      0.77      0.73       350\n",
            "     premise       0.71      0.63      0.66       338\n",
            "     non-arg       0.67      0.65      0.66        99\n",
            "\n",
            "    accuracy                           0.69       787\n",
            "   macro avg       0.69      0.68      0.68       787\n",
            "weighted avg       0.69      0.69      0.69       787\n",
            "\n"
          ]
        },
        {
          "output_type": "display_data",
          "data": {
            "text/plain": [
              "<Figure size 640x480 with 2 Axes>"
            ],
            "image/png": "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\n"
          },
          "metadata": {}
        },
        {
          "output_type": "stream",
          "name": "stdout",
          "text": [
            "Final model saved to: ./final_model_bert-base-uncased_ArgUNSC_en_de\n",
            "Misclassified examples saved to: misclassified_bert-base-uncased_ArgUNSC_en_de.xlsx\n",
            "Misclassified examples saved to: misclassified_bert-base-uncased_ArgUNSC_en_de.xlsx\n"
          ]
        }
      ]
    },
    {
      "cell_type": "code",
      "source": [
        "import shutil\n",
        "from google.colab import files\n",
        "\n",
        "model_path = \"./final_model_bert-base-uncased_ArgUNSC_en_de\"\n",
        "\n",
        "# Zip it\n",
        "shutil.make_archive(model_path, 'zip', model_path)"
      ],
      "metadata": {
        "id": "Qv6O5dtKVpMq",
        "colab": {
          "base_uri": "https://localhost:8080/",
          "height": 35
        },
        "outputId": "79fac0ab-d6a2-4d2b-b696-dd2460b74a54"
      },
      "execution_count": null,
      "outputs": [
        {
          "output_type": "execute_result",
          "data": {
            "text/plain": [
              "'/content/final_model_bert-base-uncased_ArgUNSC_en_de.zip'"
            ],
            "application/vnd.google.colaboratory.intrinsic+json": {
              "type": "string"
            }
          },
          "metadata": {},
          "execution_count": 14
        }
      ]
    }
  ]
}
